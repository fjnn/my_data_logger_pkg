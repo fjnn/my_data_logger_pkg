{
 "cells": [
  {
   "cell_type": "markdown",
   "metadata": {},
   "source": [
    "#### Imports"
   ]
  },
  {
   "cell_type": "markdown",
   "metadata": {},
   "source": [
    "Imports"
   ]
  },
  {
   "cell_type": "code",
   "execution_count": 1,
   "metadata": {},
   "outputs": [],
   "source": [
    "import os"
   ]
  },
  {
   "cell_type": "code",
   "execution_count": 2,
   "metadata": {},
   "outputs": [],
   "source": [
    "import pandas as pd\n",
    "import numpy as np\n",
    "import matplotlib.pyplot as plt\n",
    "import Data.data"
   ]
  },
  {
   "cell_type": "code",
   "execution_count": 4,
   "metadata": {},
   "outputs": [],
   "source": [
    "%matplotlib inline"
   ]
  },
  {
   "cell_type": "markdown",
   "metadata": {},
   "source": [
    "Load data"
   ]
  },
  {
   "cell_type": "code",
   "execution_count": 16,
   "metadata": {},
   "outputs": [
    {
     "name": "stdout",
     "output_type": "stream",
     "text": [
      "['.~lock.gizem_test_2020-05-01-11-29-43.csv#', 'gizem_test_2020-05-02-16-10-44.csv']\n",
      "994\n"
     ]
    }
   ],
   "source": [
    "folder = '../Output'\n",
    "df = []\n",
    "\n",
    "files = sorted(os.listdir(folder))\n",
    "print(files)\n",
    "for file in files:\n",
    "    csv_filename = os.path.join(folder, file)\n",
    "    csv_file = pd.read_csv(csv_filename)\n",
    "    df.append(csv_file)\n",
    "\n",
    "print(len(df[1]))"
   ]
  },
  {
   "cell_type": "code",
   "execution_count": 10,
   "metadata": {},
   "outputs": [
    {
     "data": {
      "text/html": [
       "<div>\n",
       "<style scoped>\n",
       "    .dataframe tbody tr th:only-of-type {\n",
       "        vertical-align: middle;\n",
       "    }\n",
       "\n",
       "    .dataframe tbody tr th {\n",
       "        vertical-align: top;\n",
       "    }\n",
       "\n",
       "    .dataframe thead th {\n",
       "        text-align: right;\n",
       "    }\n",
       "</style>\n",
       "<table border=\"1\" class=\"dataframe\">\n",
       "  <thead>\n",
       "    <tr style=\"text-align: right;\">\n",
       "      <th></th>\n",
       "      <th>global_time</th>\n",
       "      <th>elapsed_time</th>\n",
       "      <th>human_pitch</th>\n",
       "      <th>human_roll</th>\n",
       "      <th>human_yaw</th>\n",
       "      <th>mark</th>\n",
       "      <th>p_deg</th>\n",
       "      <th>y_deg</th>\n",
       "      <th>r_deg</th>\n",
       "    </tr>\n",
       "  </thead>\n",
       "  <tbody>\n",
       "    <tr>\n",
       "      <td>0</td>\n",
       "      <td>1.588429e+09</td>\n",
       "      <td>4.346859</td>\n",
       "      <td>0.000000</td>\n",
       "      <td>0.000000</td>\n",
       "      <td>0.000000</td>\n",
       "      <td>not-aided</td>\n",
       "      <td>0.000000</td>\n",
       "      <td>0.000000</td>\n",
       "      <td>0.000000</td>\n",
       "    </tr>\n",
       "    <tr>\n",
       "      <td>1</td>\n",
       "      <td>1.588429e+09</td>\n",
       "      <td>4.373100</td>\n",
       "      <td>0.000000</td>\n",
       "      <td>0.000000</td>\n",
       "      <td>0.000000</td>\n",
       "      <td>not-aided</td>\n",
       "      <td>0.000000</td>\n",
       "      <td>0.000000</td>\n",
       "      <td>0.000000</td>\n",
       "    </tr>\n",
       "    <tr>\n",
       "      <td>2</td>\n",
       "      <td>1.588429e+09</td>\n",
       "      <td>4.403044</td>\n",
       "      <td>0.000000</td>\n",
       "      <td>0.000000</td>\n",
       "      <td>0.000000</td>\n",
       "      <td>not-aided</td>\n",
       "      <td>0.000000</td>\n",
       "      <td>0.000000</td>\n",
       "      <td>0.000000</td>\n",
       "    </tr>\n",
       "    <tr>\n",
       "      <td>3</td>\n",
       "      <td>1.588429e+09</td>\n",
       "      <td>4.433034</td>\n",
       "      <td>0.000000</td>\n",
       "      <td>0.000000</td>\n",
       "      <td>0.000000</td>\n",
       "      <td>not-aided</td>\n",
       "      <td>0.000000</td>\n",
       "      <td>0.000000</td>\n",
       "      <td>0.000000</td>\n",
       "    </tr>\n",
       "    <tr>\n",
       "      <td>4</td>\n",
       "      <td>1.588429e+09</td>\n",
       "      <td>4.463110</td>\n",
       "      <td>0.000000</td>\n",
       "      <td>0.000000</td>\n",
       "      <td>0.000000</td>\n",
       "      <td>not-aided</td>\n",
       "      <td>0.000000</td>\n",
       "      <td>0.000000</td>\n",
       "      <td>0.000000</td>\n",
       "    </tr>\n",
       "    <tr>\n",
       "      <td>...</td>\n",
       "      <td>...</td>\n",
       "      <td>...</td>\n",
       "      <td>...</td>\n",
       "      <td>...</td>\n",
       "      <td>...</td>\n",
       "      <td>...</td>\n",
       "      <td>...</td>\n",
       "      <td>...</td>\n",
       "      <td>...</td>\n",
       "    </tr>\n",
       "    <tr>\n",
       "      <td>989</td>\n",
       "      <td>1.588429e+09</td>\n",
       "      <td>34.013121</td>\n",
       "      <td>0.142472</td>\n",
       "      <td>0.270222</td>\n",
       "      <td>0.309904</td>\n",
       "      <td>not-aided</td>\n",
       "      <td>8.163054</td>\n",
       "      <td>15.482589</td>\n",
       "      <td>17.756201</td>\n",
       "    </tr>\n",
       "    <tr>\n",
       "      <td>990</td>\n",
       "      <td>1.588429e+09</td>\n",
       "      <td>34.043109</td>\n",
       "      <td>0.142785</td>\n",
       "      <td>0.270323</td>\n",
       "      <td>0.309960</td>\n",
       "      <td>not-aided</td>\n",
       "      <td>8.180960</td>\n",
       "      <td>15.488358</td>\n",
       "      <td>17.759380</td>\n",
       "    </tr>\n",
       "    <tr>\n",
       "      <td>991</td>\n",
       "      <td>1.588429e+09</td>\n",
       "      <td>34.073157</td>\n",
       "      <td>0.142551</td>\n",
       "      <td>0.269799</td>\n",
       "      <td>0.310361</td>\n",
       "      <td>not-aided</td>\n",
       "      <td>8.167582</td>\n",
       "      <td>15.458332</td>\n",
       "      <td>17.782388</td>\n",
       "    </tr>\n",
       "    <tr>\n",
       "      <td>992</td>\n",
       "      <td>1.588429e+09</td>\n",
       "      <td>34.103174</td>\n",
       "      <td>0.142530</td>\n",
       "      <td>0.269389</td>\n",
       "      <td>0.310538</td>\n",
       "      <td>not-aided</td>\n",
       "      <td>8.166371</td>\n",
       "      <td>15.434840</td>\n",
       "      <td>17.792512</td>\n",
       "    </tr>\n",
       "    <tr>\n",
       "      <td>993</td>\n",
       "      <td>1.588429e+09</td>\n",
       "      <td>34.133070</td>\n",
       "      <td>0.143027</td>\n",
       "      <td>0.269862</td>\n",
       "      <td>0.310645</td>\n",
       "      <td>not-aided</td>\n",
       "      <td>8.194863</td>\n",
       "      <td>15.461943</td>\n",
       "      <td>17.798675</td>\n",
       "    </tr>\n",
       "  </tbody>\n",
       "</table>\n",
       "<p>994 rows × 9 columns</p>\n",
       "</div>"
      ],
      "text/plain": [
       "      global_time  elapsed_time  human_pitch  human_roll  human_yaw  \\\n",
       "0    1.588429e+09      4.346859     0.000000    0.000000   0.000000   \n",
       "1    1.588429e+09      4.373100     0.000000    0.000000   0.000000   \n",
       "2    1.588429e+09      4.403044     0.000000    0.000000   0.000000   \n",
       "3    1.588429e+09      4.433034     0.000000    0.000000   0.000000   \n",
       "4    1.588429e+09      4.463110     0.000000    0.000000   0.000000   \n",
       "..            ...           ...          ...         ...        ...   \n",
       "989  1.588429e+09     34.013121     0.142472    0.270222   0.309904   \n",
       "990  1.588429e+09     34.043109     0.142785    0.270323   0.309960   \n",
       "991  1.588429e+09     34.073157     0.142551    0.269799   0.310361   \n",
       "992  1.588429e+09     34.103174     0.142530    0.269389   0.310538   \n",
       "993  1.588429e+09     34.133070     0.143027    0.269862   0.310645   \n",
       "\n",
       "          mark     p_deg      y_deg      r_deg  \n",
       "0    not-aided  0.000000   0.000000   0.000000  \n",
       "1    not-aided  0.000000   0.000000   0.000000  \n",
       "2    not-aided  0.000000   0.000000   0.000000  \n",
       "3    not-aided  0.000000   0.000000   0.000000  \n",
       "4    not-aided  0.000000   0.000000   0.000000  \n",
       "..         ...       ...        ...        ...  \n",
       "989  not-aided  8.163054  15.482589  17.756201  \n",
       "990  not-aided  8.180960  15.488358  17.759380  \n",
       "991  not-aided  8.167582  15.458332  17.782388  \n",
       "992  not-aided  8.166371  15.434840  17.792512  \n",
       "993  not-aided  8.194863  15.461943  17.798675  \n",
       "\n",
       "[994 rows x 9 columns]"
      ]
     },
     "execution_count": 10,
     "metadata": {},
     "output_type": "execute_result"
    }
   ],
   "source": [
    "df[1]"
   ]
  },
  {
   "cell_type": "markdown",
   "metadata": {},
   "source": [
    "Plot for time and motion"
   ]
  },
  {
   "cell_type": "markdown",
   "metadata": {},
   "source": [
    "### MATPLOTLIB"
   ]
  },
  {
   "cell_type": "markdown",
   "metadata": {},
   "source": [
    "#### Function way"
   ]
  },
  {
   "cell_type": "code",
   "execution_count": null,
   "metadata": {},
   "outputs": [],
   "source": [
    "plt.subplot(1,3,1)\n",
    "plt.plot(df[0]['elapsed_time'], df[0]['y_deg'])\n",
    "plt.xlabel('Time')\n",
    "plt.ylabel('Yaw (degrees)')\n",
    "plt.title('YAW')\n",
    "plt.subplot(1,3,2)\n",
    "plt.plot(df[0]['elapsed_time'], df[0]['p_deg'])\n",
    "plt.xlabel('Time')\n",
    "plt.ylabel('Pitch (degrees)')\n",
    "plt.title('PITCH')\n",
    "plt.subplot(1,3,3)\n",
    "plt.plot(df[0]['elapsed_time'], df[0]['r_deg'])\n",
    "plt.xlabel('Time')\n",
    "plt.ylabel('Roll (degrees)')\n",
    "plt.title('ROLL')"
   ]
  },
  {
   "cell_type": "markdown",
   "metadata": {},
   "source": [
    "#### Object Oriented way"
   ]
  },
  {
   "cell_type": "markdown",
   "metadata": {},
   "source": [
    "fig = plt.figure()\n",
    "axes = fig.add_axes([0, 10, 1, 1])\n",
    "axes.plot(df[1]['elapsed_time'], df[0]['p_deg'])\n",
    "axes.set_xlabel('Time')\n",
    "axes.set_ylabel('Pitch (degrees)')\n",
    "axes.set_title('PITCH')\n"
   ]
  },
  {
   "cell_type": "code",
   "execution_count": null,
   "metadata": {},
   "outputs": [],
   "source": [
    "fig,axes = plt.subplots(nrows = 1, ncols = 3)\n",
    "plt.tight_layout()\n",
    "axes[0].plot(df[0]['elapsed_time'], df[0]['y_deg'])\n",
    "axes[1].plot(df[0]['elapsed_time'], df[0]['p_deg'])\n",
    "axes[2].plot(df[0]['elapsed_time'], df[0]['r_deg'])"
   ]
  },
  {
   "cell_type": "code",
   "execution_count": null,
   "metadata": {},
   "outputs": [],
   "source": [
    "fig = plt.figure()\n",
    "axis = fig.add_axes([0, 10, 1, 1])\n",
    "axis.plot(df[0]['elapsed_time'], df[0]['y_deg'],'r', label='yaw')\n",
    "axis.plot(df[0]['elapsed_time'], df[0]['p_deg'],'b', label='pitch')\n",
    "axis.plot(df[0]['elapsed_time'], df[0]['r_deg'],'g', label='roll')\n",
    "\n",
    "axis.legend()"
   ]
  }
 ],
 "metadata": {
  "kernelspec": {
   "display_name": "Python 3",
   "language": "python",
   "name": "python3"
  },
  "language_info": {
   "codemirror_mode": {
    "name": "ipython",
    "version": 3
   },
   "file_extension": ".py",
   "mimetype": "text/x-python",
   "name": "python",
   "nbconvert_exporter": "python",
   "pygments_lexer": "ipython3",
   "version": "3.7.4"
  }
 },
 "nbformat": 4,
 "nbformat_minor": 2
}
