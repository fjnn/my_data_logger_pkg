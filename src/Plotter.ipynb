{
 "cells": [
  {
   "cell_type": "markdown",
   "metadata": {},
   "source": [
    "#### Imports"
   ]
  },
  {
   "cell_type": "markdown",
   "metadata": {},
   "source": [
    "Imports"
   ]
  },
  {
   "cell_type": "code",
   "execution_count": 1,
   "metadata": {},
   "outputs": [],
   "source": [
    "import os"
   ]
  },
  {
   "cell_type": "code",
   "execution_count": 2,
   "metadata": {},
   "outputs": [],
   "source": [
    "import pandas as pd\n",
    "import numpy as np\n",
    "import matplotlib.pyplot as plt\n",
    "import Data.data"
   ]
  },
  {
   "cell_type": "markdown",
   "metadata": {},
   "source": [
    "To display figures inline in Jupyter notebook:"
   ]
  },
  {
   "cell_type": "code",
   "execution_count": 3,
   "metadata": {},
   "outputs": [],
   "source": [
    "%matplotlib inline"
   ]
  },
  {
   "cell_type": "markdown",
   "metadata": {},
   "source": [
    "Load data"
   ]
  },
  {
   "cell_type": "code",
   "execution_count": 4,
   "metadata": {},
   "outputs": [
    {
     "name": "stdout",
     "output_type": "stream",
     "text": [
      "['gizem_test_data.csv']\n",
      "1\n"
     ]
    }
   ],
   "source": [
    "folder = '../Output'\n",
    "df = []\n",
    "\n",
    "files = sorted(os.listdir(folder))\n",
    "print(files)\n",
    "for file in files:\n",
    "    csv_filename = os.path.join(folder, file)\n",
    "    csv_file = pd.read_csv(csv_filename)\n",
    "    df.append(csv_file)\n",
    "\n",
    "print(len(df))"
   ]
  },
  {
   "cell_type": "code",
   "execution_count": 5,
   "metadata": {},
   "outputs": [
    {
     "data": {
      "text/html": [
       "<div>\n",
       "<style scoped>\n",
       "    .dataframe tbody tr th:only-of-type {\n",
       "        vertical-align: middle;\n",
       "    }\n",
       "\n",
       "    .dataframe tbody tr th {\n",
       "        vertical-align: top;\n",
       "    }\n",
       "\n",
       "    .dataframe thead th {\n",
       "        text-align: right;\n",
       "    }\n",
       "</style>\n",
       "<table border=\"1\" class=\"dataframe\">\n",
       "  <thead>\n",
       "    <tr style=\"text-align: right;\">\n",
       "      <th></th>\n",
       "      <th>global_time</th>\n",
       "      <th>elapsed_time</th>\n",
       "      <th>human_pitch</th>\n",
       "      <th>human_roll</th>\n",
       "      <th>human_yaw</th>\n",
       "      <th>mark</th>\n",
       "    </tr>\n",
       "  </thead>\n",
       "  <tbody>\n",
       "    <tr>\n",
       "      <td>0</td>\n",
       "      <td>1.588711e+09</td>\n",
       "      <td>0.012794</td>\n",
       "      <td>0.000000</td>\n",
       "      <td>0.000000</td>\n",
       "      <td>0.000000</td>\n",
       "      <td>not-aided</td>\n",
       "    </tr>\n",
       "    <tr>\n",
       "      <td>1</td>\n",
       "      <td>1.588711e+09</td>\n",
       "      <td>0.042560</td>\n",
       "      <td>0.000000</td>\n",
       "      <td>0.000000</td>\n",
       "      <td>0.000000</td>\n",
       "      <td>not-aided</td>\n",
       "    </tr>\n",
       "    <tr>\n",
       "      <td>2</td>\n",
       "      <td>1.588711e+09</td>\n",
       "      <td>0.072738</td>\n",
       "      <td>0.000000</td>\n",
       "      <td>0.000000</td>\n",
       "      <td>0.000000</td>\n",
       "      <td>not-aided</td>\n",
       "    </tr>\n",
       "    <tr>\n",
       "      <td>3</td>\n",
       "      <td>1.588711e+09</td>\n",
       "      <td>0.102665</td>\n",
       "      <td>0.000000</td>\n",
       "      <td>0.000000</td>\n",
       "      <td>0.000000</td>\n",
       "      <td>not-aided</td>\n",
       "    </tr>\n",
       "    <tr>\n",
       "      <td>4</td>\n",
       "      <td>1.588711e+09</td>\n",
       "      <td>0.132577</td>\n",
       "      <td>0.000000</td>\n",
       "      <td>0.000000</td>\n",
       "      <td>0.000000</td>\n",
       "      <td>not-aided</td>\n",
       "    </tr>\n",
       "    <tr>\n",
       "      <td>...</td>\n",
       "      <td>...</td>\n",
       "      <td>...</td>\n",
       "      <td>...</td>\n",
       "      <td>...</td>\n",
       "      <td>...</td>\n",
       "      <td>...</td>\n",
       "    </tr>\n",
       "    <tr>\n",
       "      <td>1008</td>\n",
       "      <td>1.588711e+09</td>\n",
       "      <td>30.252556</td>\n",
       "      <td>0.150462</td>\n",
       "      <td>0.033794</td>\n",
       "      <td>0.081863</td>\n",
       "      <td>not-aided</td>\n",
       "    </tr>\n",
       "    <tr>\n",
       "      <td>1009</td>\n",
       "      <td>1.588711e+09</td>\n",
       "      <td>30.282550</td>\n",
       "      <td>0.150518</td>\n",
       "      <td>0.034420</td>\n",
       "      <td>0.081361</td>\n",
       "      <td>not-aided</td>\n",
       "    </tr>\n",
       "    <tr>\n",
       "      <td>1010</td>\n",
       "      <td>1.588711e+09</td>\n",
       "      <td>30.312548</td>\n",
       "      <td>0.150911</td>\n",
       "      <td>0.034798</td>\n",
       "      <td>0.080604</td>\n",
       "      <td>not-aided</td>\n",
       "    </tr>\n",
       "    <tr>\n",
       "      <td>1011</td>\n",
       "      <td>1.588711e+09</td>\n",
       "      <td>30.342699</td>\n",
       "      <td>0.151350</td>\n",
       "      <td>0.034171</td>\n",
       "      <td>0.080724</td>\n",
       "      <td>not-aided</td>\n",
       "    </tr>\n",
       "    <tr>\n",
       "      <td>1012</td>\n",
       "      <td>1.588711e+09</td>\n",
       "      <td>30.372529</td>\n",
       "      <td>0.151077</td>\n",
       "      <td>0.033665</td>\n",
       "      <td>0.081340</td>\n",
       "      <td>not-aided</td>\n",
       "    </tr>\n",
       "  </tbody>\n",
       "</table>\n",
       "<p>1013 rows × 6 columns</p>\n",
       "</div>"
      ],
      "text/plain": [
       "       global_time  elapsed_time  human_pitch  human_roll  human_yaw  \\\n",
       "0     1.588711e+09      0.012794     0.000000    0.000000   0.000000   \n",
       "1     1.588711e+09      0.042560     0.000000    0.000000   0.000000   \n",
       "2     1.588711e+09      0.072738     0.000000    0.000000   0.000000   \n",
       "3     1.588711e+09      0.102665     0.000000    0.000000   0.000000   \n",
       "4     1.588711e+09      0.132577     0.000000    0.000000   0.000000   \n",
       "...            ...           ...          ...         ...        ...   \n",
       "1008  1.588711e+09     30.252556     0.150462    0.033794   0.081863   \n",
       "1009  1.588711e+09     30.282550     0.150518    0.034420   0.081361   \n",
       "1010  1.588711e+09     30.312548     0.150911    0.034798   0.080604   \n",
       "1011  1.588711e+09     30.342699     0.151350    0.034171   0.080724   \n",
       "1012  1.588711e+09     30.372529     0.151077    0.033665   0.081340   \n",
       "\n",
       "           mark  \n",
       "0     not-aided  \n",
       "1     not-aided  \n",
       "2     not-aided  \n",
       "3     not-aided  \n",
       "4     not-aided  \n",
       "...         ...  \n",
       "1008  not-aided  \n",
       "1009  not-aided  \n",
       "1010  not-aided  \n",
       "1011  not-aided  \n",
       "1012  not-aided  \n",
       "\n",
       "[1013 rows x 6 columns]"
      ]
     },
     "execution_count": 5,
     "metadata": {},
     "output_type": "execute_result"
    }
   ],
   "source": [
    "df[0]"
   ]
  },
  {
   "cell_type": "markdown",
   "metadata": {},
   "source": [
    "Plot for time and motion"
   ]
  },
  {
   "cell_type": "markdown",
   "metadata": {},
   "source": [
    "### MATPLOTLIB"
   ]
  },
  {
   "cell_type": "markdown",
   "metadata": {},
   "source": [
    "#### Function way"
   ]
  },
  {
   "cell_type": "code",
   "execution_count": null,
   "metadata": {},
   "outputs": [],
   "source": [
    "plt.subplot(1,3,1)\n",
    "plt.plot(df[0]['elapsed_time'], df[0]['y_deg'])\n",
    "plt.xlabel('Time')\n",
    "plt.ylabel('Yaw (degrees)')\n",
    "plt.title('YAW')\n",
    "plt.subplot(1,3,2)\n",
    "plt.plot(df[0]['elapsed_time'], df[0]['p_deg'])\n",
    "plt.xlabel('Time')\n",
    "plt.ylabel('Pitch (degrees)')\n",
    "plt.title('PITCH')\n",
    "plt.subplot(1,3,3)\n",
    "plt.plot(df[0]['elapsed_time'], df[0]['r_deg'])\n",
    "plt.xlabel('Time')\n",
    "plt.ylabel('Roll (degrees)')\n",
    "plt.title('ROLL')"
   ]
  },
  {
   "cell_type": "markdown",
   "metadata": {},
   "source": [
    "#### Object Oriented way"
   ]
  },
  {
   "cell_type": "markdown",
   "metadata": {},
   "source": [
    "fig = plt.figure()\n",
    "axes = fig.add_axes([0, 10, 1, 1])\n",
    "axes.plot(df[1]['elapsed_time'], df[0]['p_deg'])\n",
    "axes.set_xlabel('Time')\n",
    "axes.set_ylabel('Pitch (degrees)')\n",
    "axes.set_title('PITCH')\n"
   ]
  },
  {
   "cell_type": "code",
   "execution_count": 8,
   "metadata": {},
   "outputs": [
    {
     "data": {
      "text/plain": [
       "[<matplotlib.lines.Line2D at 0x7f57ede44e90>]"
      ]
     },
     "execution_count": 8,
     "metadata": {},
     "output_type": "execute_result"
    },
    {
     "data": {
      "image/png": "[encoded data removed]",
      "text/plain": [
       "<Figure size 432x288 with 3 Axes>"
      ]
     },
     "metadata": {
      "needs_background": "light"
     },
     "output_type": "display_data"
    }
   ],
   "source": [
    "fig,axes = plt.subplots(nrows = 1, ncols = 3)\n",
    "# plt.tight_layout()\n",
    "axes[0].plot(df[0]['elapsed_time'], np.degrees(df[0]['human_pitch']))\n",
    "axes[1].plot(df[0]['elapsed_time'], np.degrees(df[0]['human_roll']))\n",
    "axes[2].plot(df[0]['elapsed_time'], np.degrees(df[0]['human_yaw']))"
   ]
  },
  {
   "cell_type": "code",
   "execution_count": 9,
   "metadata": {},
   "outputs": [
    {
     "data": {
      "text/plain": [
       "<matplotlib.legend.Legend at 0x7f57ede01f10>"
      ]
     },
     "execution_count": 9,
     "metadata": {},
     "output_type": "execute_result"
    },
    {
     "data": {
      "image/png": "[encoded data removed]",
      "text/plain": [
       "<Figure size 432x288 with 1 Axes>"
      ]
     },
     "metadata": {
      "needs_background": "light"
     },
     "output_type": "display_data"
    }
   ],
   "source": [
    "fig = plt.figure()\n",
    "axis = fig.add_axes([0, 10, 1, 1])\n",
    "axis.plot(df[0]['elapsed_time'], np.degrees(df[0]['human_yaw']),'r', label='yaw')\n",
    "axis.plot(df[0]['elapsed_time'], np.degrees(df[0]['human_pitch']),'b', label='pitch')\n",
    "axis.plot(df[0]['elapsed_time'], np.degrees(df[0]['human_roll']),'g', label='roll')\n",
    "\n",
    "axis.legend()"
   ]
  }
 ],
 "metadata": {
  "kernelspec": {
   "display_name": "Python 3",
   "language": "python",
   "name": "python3"
  },
  "language_info": {
   "codemirror_mode": {
    "name": "ipython",
    "version": 3
   },
   "file_extension": ".py",
   "mimetype": "text/x-python",
   "name": "python",
   "nbconvert_exporter": "python",
   "pygments_lexer": "ipython3",
   "version": "3.7.4"
  }
 },
 "nbformat": 4,
 "nbformat_minor": 2
}
