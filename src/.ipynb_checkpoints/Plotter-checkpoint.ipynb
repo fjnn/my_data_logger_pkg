{
 "cells": [
  {
   "cell_type": "markdown",
   "metadata": {},
   "source": [
    "#### Imports"
   ]
  },
  {
   "cell_type": "markdown",
   "metadata": {},
   "source": [
    "Imports"
   ]
  },
  {
   "cell_type": "code",
   "execution_count": 7,
   "metadata": {},
   "outputs": [],
   "source": [
    "import os"
   ]
  },
  {
   "cell_type": "code",
   "execution_count": 6,
   "metadata": {},
   "outputs": [],
   "source": [
    "import pandas as pd\n",
    "import numpy as np\n",
    "import matplotlib.pyplot as plt\n",
    "import Data.data"
   ]
  },
  {
   "cell_type": "code",
   "execution_count": 31,
   "metadata": {},
   "outputs": [],
   "source": [
    "%matplotlib inline  # otherwise plt.show()"
   ]
  },
  {
   "cell_type": "markdown",
   "metadata": {},
   "source": [
    "Load data"
   ]
  },
  {
   "cell_type": "code",
   "execution_count": 15,
   "metadata": {},
   "outputs": [
    {
     "name": "stdout",
     "output_type": "stream",
     "text": [
      "998\n"
     ]
    }
   ],
   "source": [
    "folder = '../Output'\n",
    "df = []\n",
    "\n",
    "files = sorted(os.listdir(folder))\n",
    "for file in files:\n",
    "    csv_filename = os.path.join(folder, file)\n",
    "    csv_file = pd.read_csv(csv_filename)\n",
    "    df.append(csv_file)\n",
    "\n",
    "print(len(df[0]))"
   ]
  },
  {
   "cell_type": "code",
   "execution_count": 28,
   "metadata": {},
   "outputs": [
    {
     "data": {
      "text/html": [
       "<div>\n",
       "<style scoped>\n",
       "    .dataframe tbody tr th:only-of-type {\n",
       "        vertical-align: middle;\n",
       "    }\n",
       "\n",
       "    .dataframe tbody tr th {\n",
       "        vertical-align: top;\n",
       "    }\n",
       "\n",
       "    .dataframe thead th {\n",
       "        text-align: right;\n",
       "    }\n",
       "</style>\n",
       "<table border=\"1\" class=\"dataframe\">\n",
       "  <thead>\n",
       "    <tr style=\"text-align: right;\">\n",
       "      <th></th>\n",
       "      <th>global_time</th>\n",
       "      <th>elapsed_time</th>\n",
       "      <th>human_pitch</th>\n",
       "      <th>human_roll</th>\n",
       "      <th>human_yaw</th>\n",
       "      <th>mark</th>\n",
       "      <th>p_deg</th>\n",
       "      <th>r_deg</th>\n",
       "      <th>y_deg</th>\n",
       "    </tr>\n",
       "  </thead>\n",
       "  <tbody>\n",
       "    <tr>\n",
       "      <td>0</td>\n",
       "      <td>1.588325e+09</td>\n",
       "      <td>5.604864</td>\n",
       "      <td>0.000000</td>\n",
       "      <td>0.000000</td>\n",
       "      <td>0.000000</td>\n",
       "      <td>not-aided</td>\n",
       "      <td>0.000000</td>\n",
       "      <td>0.000000</td>\n",
       "      <td>0.000000</td>\n",
       "    </tr>\n",
       "    <tr>\n",
       "      <td>1</td>\n",
       "      <td>1.588325e+09</td>\n",
       "      <td>5.634963</td>\n",
       "      <td>0.000000</td>\n",
       "      <td>0.000000</td>\n",
       "      <td>0.000000</td>\n",
       "      <td>not-aided</td>\n",
       "      <td>0.000000</td>\n",
       "      <td>0.000000</td>\n",
       "      <td>0.000000</td>\n",
       "    </tr>\n",
       "    <tr>\n",
       "      <td>2</td>\n",
       "      <td>1.588325e+09</td>\n",
       "      <td>5.664851</td>\n",
       "      <td>0.000000</td>\n",
       "      <td>0.000000</td>\n",
       "      <td>0.000000</td>\n",
       "      <td>not-aided</td>\n",
       "      <td>0.000000</td>\n",
       "      <td>0.000000</td>\n",
       "      <td>0.000000</td>\n",
       "    </tr>\n",
       "    <tr>\n",
       "      <td>3</td>\n",
       "      <td>1.588325e+09</td>\n",
       "      <td>5.694980</td>\n",
       "      <td>0.000000</td>\n",
       "      <td>0.000000</td>\n",
       "      <td>0.000000</td>\n",
       "      <td>not-aided</td>\n",
       "      <td>0.000000</td>\n",
       "      <td>0.000000</td>\n",
       "      <td>0.000000</td>\n",
       "    </tr>\n",
       "    <tr>\n",
       "      <td>4</td>\n",
       "      <td>1.588325e+09</td>\n",
       "      <td>5.724910</td>\n",
       "      <td>0.000000</td>\n",
       "      <td>0.000000</td>\n",
       "      <td>0.000000</td>\n",
       "      <td>not-aided</td>\n",
       "      <td>0.000000</td>\n",
       "      <td>0.000000</td>\n",
       "      <td>0.000000</td>\n",
       "    </tr>\n",
       "    <tr>\n",
       "      <td>...</td>\n",
       "      <td>...</td>\n",
       "      <td>...</td>\n",
       "      <td>...</td>\n",
       "      <td>...</td>\n",
       "      <td>...</td>\n",
       "      <td>...</td>\n",
       "      <td>...</td>\n",
       "      <td>...</td>\n",
       "      <td>...</td>\n",
       "    </tr>\n",
       "    <tr>\n",
       "      <td>993</td>\n",
       "      <td>1.588325e+09</td>\n",
       "      <td>35.394941</td>\n",
       "      <td>0.004478</td>\n",
       "      <td>-0.000053</td>\n",
       "      <td>-0.000613</td>\n",
       "      <td>not-aided</td>\n",
       "      <td>0.256590</td>\n",
       "      <td>-0.003019</td>\n",
       "      <td>-0.035139</td>\n",
       "    </tr>\n",
       "    <tr>\n",
       "      <td>994</td>\n",
       "      <td>1.588325e+09</td>\n",
       "      <td>35.424975</td>\n",
       "      <td>0.004526</td>\n",
       "      <td>-0.000068</td>\n",
       "      <td>-0.000635</td>\n",
       "      <td>not-aided</td>\n",
       "      <td>0.259338</td>\n",
       "      <td>-0.003906</td>\n",
       "      <td>-0.036356</td>\n",
       "    </tr>\n",
       "    <tr>\n",
       "      <td>995</td>\n",
       "      <td>1.588325e+09</td>\n",
       "      <td>35.454936</td>\n",
       "      <td>0.004553</td>\n",
       "      <td>-0.000082</td>\n",
       "      <td>-0.000628</td>\n",
       "      <td>not-aided</td>\n",
       "      <td>0.260869</td>\n",
       "      <td>-0.004711</td>\n",
       "      <td>-0.035963</td>\n",
       "    </tr>\n",
       "    <tr>\n",
       "      <td>996</td>\n",
       "      <td>1.588325e+09</td>\n",
       "      <td>35.484934</td>\n",
       "      <td>0.004570</td>\n",
       "      <td>-0.000097</td>\n",
       "      <td>-0.000636</td>\n",
       "      <td>not-aided</td>\n",
       "      <td>0.261834</td>\n",
       "      <td>-0.005585</td>\n",
       "      <td>-0.036468</td>\n",
       "    </tr>\n",
       "    <tr>\n",
       "      <td>997</td>\n",
       "      <td>1.588325e+09</td>\n",
       "      <td>35.514923</td>\n",
       "      <td>0.004749</td>\n",
       "      <td>-0.000058</td>\n",
       "      <td>-0.000608</td>\n",
       "      <td>not-aided</td>\n",
       "      <td>0.272106</td>\n",
       "      <td>-0.003312</td>\n",
       "      <td>-0.034862</td>\n",
       "    </tr>\n",
       "  </tbody>\n",
       "</table>\n",
       "<p>998 rows × 9 columns</p>\n",
       "</div>"
      ],
      "text/plain": [
       "      global_time  elapsed_time  human_pitch  human_roll  human_yaw  \\\n",
       "0    1.588325e+09      5.604864     0.000000    0.000000   0.000000   \n",
       "1    1.588325e+09      5.634963     0.000000    0.000000   0.000000   \n",
       "2    1.588325e+09      5.664851     0.000000    0.000000   0.000000   \n",
       "3    1.588325e+09      5.694980     0.000000    0.000000   0.000000   \n",
       "4    1.588325e+09      5.724910     0.000000    0.000000   0.000000   \n",
       "..            ...           ...          ...         ...        ...   \n",
       "993  1.588325e+09     35.394941     0.004478   -0.000053  -0.000613   \n",
       "994  1.588325e+09     35.424975     0.004526   -0.000068  -0.000635   \n",
       "995  1.588325e+09     35.454936     0.004553   -0.000082  -0.000628   \n",
       "996  1.588325e+09     35.484934     0.004570   -0.000097  -0.000636   \n",
       "997  1.588325e+09     35.514923     0.004749   -0.000058  -0.000608   \n",
       "\n",
       "          mark     p_deg     r_deg     y_deg  \n",
       "0    not-aided  0.000000  0.000000  0.000000  \n",
       "1    not-aided  0.000000  0.000000  0.000000  \n",
       "2    not-aided  0.000000  0.000000  0.000000  \n",
       "3    not-aided  0.000000  0.000000  0.000000  \n",
       "4    not-aided  0.000000  0.000000  0.000000  \n",
       "..         ...       ...       ...       ...  \n",
       "993  not-aided  0.256590 -0.003019 -0.035139  \n",
       "994  not-aided  0.259338 -0.003906 -0.036356  \n",
       "995  not-aided  0.260869 -0.004711 -0.035963  \n",
       "996  not-aided  0.261834 -0.005585 -0.036468  \n",
       "997  not-aided  0.272106 -0.003312 -0.034862  \n",
       "\n",
       "[998 rows x 9 columns]"
      ]
     },
     "execution_count": 28,
     "metadata": {},
     "output_type": "execute_result"
    }
   ],
   "source": [
    "df[0]"
   ]
  },
  {
   "cell_type": "code",
   "execution_count": 30,
   "metadata": {},
   "outputs": [
    {
     "data": {
      "text/plain": [
       "0      1.588325e+09\n",
       "1      1.588325e+09\n",
       "2      1.588325e+09\n",
       "3      1.588325e+09\n",
       "4      1.588325e+09\n",
       "           ...     \n",
       "993    1.588325e+09\n",
       "994    1.588325e+09\n",
       "995    1.588325e+09\n",
       "996    1.588325e+09\n",
       "997    1.588325e+09\n",
       "Name: global_time, Length: 998, dtype: float64"
      ]
     },
     "execution_count": 30,
     "metadata": {},
     "output_type": "execute_result"
    }
   ],
   "source": [
    "df[0]['global_time']"
   ]
  },
  {
   "cell_type": "markdown",
   "metadata": {},
   "source": [
    "Plot for time and pitch"
   ]
  },
  {
   "cell_type": "markdown",
   "metadata": {},
   "source": [
    "### MATPLOTLIB"
   ]
  },
  {
   "cell_type": "markdown",
   "metadata": {},
   "source": [
    "#### Function way"
   ]
  },
  {
   "cell_type": "code",
   "execution_count": 44,
   "metadata": {},
   "outputs": [
    {
     "data": {
      "text/plain": [
       "Text(0.5, 1.0, 'ROLL')"
      ]
     },
     "execution_count": 44,
     "metadata": {},
     "output_type": "execute_result"
    },
    {
     "data": {
      "image/png": "[encoded data removed]",
      "text/plain": [
       "<Figure size 432x288 with 3 Axes>"
      ]
     },
     "metadata": {
      "needs_background": "light"
     },
     "output_type": "display_data"
    }
   ],
   "source": [
    "plt.subplot(1,3,1)\n",
    "plt.plot(df[0]['elapsed_time'], df[0]['y_deg'])\n",
    "plt.xlabel('Time')\n",
    "plt.ylabel('Yaw (degrees)')\n",
    "plt.title('YAW')\n",
    "plt.subplot(1,3,2)\n",
    "plt.plot(df[0]['elapsed_time'], df[0]['p_deg'])\n",
    "plt.xlabel('Time')\n",
    "plt.ylabel('Pitch (degrees)')\n",
    "plt.title('PITCH')\n",
    "plt.subplot(1,3,3)\n",
    "plt.plot(df[0]['elapsed_time'], df[0]['r_deg'])\n",
    "plt.xlabel('Time')\n",
    "plt.ylabel('Roll (degrees)')\n",
    "plt.title('ROLL')"
   ]
  },
  {
   "cell_type": "markdown",
   "metadata": {},
   "source": [
    "#### Object Oriented way"
   ]
  },
  {
   "cell_type": "markdown",
   "metadata": {},
   "source": [
    "fig = plt.figure()\n",
    "axes = fig.add_axes([0, 10, 1, 1])\n",
    "axes.plot(df[0]['elapsed_time'], df[0]['p_deg'])\n",
    "axes.set_xlabel('Time')\n",
    "axes.set_ylabel('Pitch (degrees)')\n",
    "axes.set_title('PITCH')\n"
   ]
  },
  {
   "cell_type": "code",
   "execution_count": 52,
   "metadata": {},
   "outputs": [
    {
     "data": {
      "text/plain": [
       "[<matplotlib.lines.Line2D at 0x7f833cb89590>]"
      ]
     },
     "execution_count": 52,
     "metadata": {},
     "output_type": "execute_result"
    },
    {
     "data": {
      "image/png": "[encoded data removed]",
      "text/plain": [
       "<Figure size 432x288 with 3 Axes>"
      ]
     },
     "metadata": {
      "needs_background": "light"
     },
     "output_type": "display_data"
    }
   ],
   "source": [
    "fig,axes = plt.subplots(nrows = 1, ncols = 3)\n",
    "plt.tight_layout()\n",
    "axes[0].plot(df[0]['elapsed_time'], df[0]['y_deg'])\n",
    "axes[1].plot(df[0]['elapsed_time'], df[0]['p_deg'])\n",
    "axes[2].plot(df[0]['elapsed_time'], df[0]['r_deg'])"
   ]
  },
  {
   "cell_type": "code",
   "execution_count": 53,
   "metadata": {},
   "outputs": [
    {
     "data": {
      "text/plain": [
       "<Figure size 432x288 with 0 Axes>"
      ]
     },
     "metadata": {},
     "output_type": "display_data"
    }
   ],
   "source": [
    "fig = plt.figure()\n",
    "axis = fig.add_axes()\n",
    "axes.plot(df[0]['elapsed_time'], df[0]['y_deg'],'r')\n",
    "axes.plot(df[0]['elapsed_time'], df[0]['p_deg'],'b')\n",
    "axes.plot(df[0]['elapsed_time'], df[0]['r_deg'],'g')"
   ]
  },
  {
   "cell_type": "code",
   "execution_count": 49,
   "metadata": {},
   "outputs": [
    {
     "data": {
      "image/png": "[encoded data removed]",
      "text/plain": [
       "<Figure size 432x288 with 2 Axes>"
      ]
     },
     "metadata": {
      "needs_background": "light"
     },
     "output_type": "display_data"
    }
   ],
   "source": [
    "fig = plt.figure()\n",
    "axes1 = fig.add_axes([0.1,0.1,0.8,0.8])\n",
    "axes2 = fig.add_axes([0.5,0.5,0.2,0.2])"
   ]
  }
 ],
 "metadata": {
  "kernelspec": {
   "display_name": "Python 3",
   "language": "python",
   "name": "python3"
  },
  "language_info": {
   "codemirror_mode": {
    "name": "ipython",
    "version": 3
   },
   "file_extension": ".py",
   "mimetype": "text/x-python",
   "name": "python",
   "nbconvert_exporter": "python",
   "pygments_lexer": "ipython3",
   "version": "3.7.4"
  }
 },
 "nbformat": 4,
 "nbformat_minor": 2
}
